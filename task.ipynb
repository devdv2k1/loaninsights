{
 "cells": [
  {
   "cell_type": "markdown",
   "metadata": {
    "dc": {
     "key": "5"
    },
    "deletable": false,
    "editable": false,
    "run_control": {
     "frozen": true
    },
    "tags": [
     "context"
    ]
   },
   "source": [
    "## Practical Exam: Loan Insights\n",
    "<p>EasyLoan offers a wide range of loan services, including personal loans, car loans, and mortgages.</p>\n",
    "<p>EasyLoan offers loans to clients from Canada, United Kingdom and United States.</p>\n",
    "<p>The analytics team wants to report performance across different geographic areas. They aim to identify areas of strength and weakness for the business strategy team.</p>\n",
    "<p>They need your help to ensure the data is accessible and reliable before they start reporting.</p>\n",
    "<p>The data you need is in the database named <code>lending</code>.</p>\n",
    "<p><strong>Database Schema</strong></p>\n",
    "<p><img src=\"https://assets.datacamp.com/production/project_1748/img/lending_schema.png\" alt=\"database schema\"></p>\n",
    "<h2 id=\"task1\">Task 1</h2>\n",
    "<p>The analytics team wants to use the <code>client</code> table to create a dashboard for client details. For them to proceed, they need to be sure the data is clean enough to use.</p>\n",
    "<p>The <code>client</code> table below illustrates what the analytics team expects the data types and format to be.</p>\n",
    "<table>\n",
    "<thead>\n",
    "<tr>\n",
    "<th>Column Name</th>\n",
    "<th>Description</th>\n",
    "</tr>\n",
    "</thead>\n",
    "<tbody>\n",
    "<tr>\n",
    "<td>client_id</td>\n",
    "<td>Unique integer (set by the database, can’t take any other value)</td>\n",
    "</tr>\n",
    "<tr>\n",
    "<td>date_of_birth</td>\n",
    "<td>Date of birth of the client, as a date  (format: YYYY-MM-DD)</td>\n",
    "</tr>\n",
    "<tr>\n",
    "<td>employment_status</td>\n",
    "<td>Current employment status of the client, either employed or unemployed, as a lower case string</td>\n",
    "</tr>\n",
    "<tr>\n",
    "<td>country</td>\n",
    "<td>The country where the client resides, either USA, UK or CA, as an upper case string</td>\n",
    "</tr>\n",
    "</tbody>\n",
    "</table>\n",
    "<p>Write a query to ensure that the <code>client</code> table matches the description provided. Your query should not update the <code>client</code> table.</p>"
   ]
  },
  {
   "cell_type": "markdown",
   "metadata": {
    "dc": {
     "key": "12"
    },
    "deletable": false,
    "editable": false,
    "run_control": {
     "frozen": true
    },
    "tags": [
     "context"
    ]
   },
   "source": [
    "## Task 2\n",
    "<p>You have been informed that there was a problem in the backend system as some of the <code>repayment_channel</code> values are missing. </p>\n",
    "<p>The missing values are critical to the analysis so they need to be filled in before proceeding.</p>\n",
    "<p>Luckily, they have discovered a pattern in the missing values:</p>\n",
    "<ul>\n",
    "<li>Repayment higher than 4000 dollars should be made via <code>bank account</code>.</li>\n",
    "<li>Repayment lower than 1000 dollars should be made via <code>mail</code>.</li>\n",
    "</ul>\n",
    "<p>Return the corrected <code>repayment</code> table.</p>"
   ]
  },
  {
   "cell_type": "markdown",
   "metadata": {
    "dc": {
     "key": "19"
    },
    "deletable": false,
    "editable": false,
    "run_control": {
     "frozen": true
    },
    "tags": [
     "context"
    ]
   },
   "source": [
    "## Task 3\n",
    "<p>Starting on January 1st, 2022, all US clients started to use an online signing system.</p>\n",
    "<p>The analytics team wants to analyze the loan portfolio for the US clients via the new online signing system.</p>\n",
    "<p><img src=\"https://assets.datacamp.com/production/project_1748/img/lending_schema.png\" alt=\"database schema\"></p>\n",
    "<p>Write a query that returns the data for the analytics team. Your output should include <code>client_id</code>,<code>contract_date</code>, <code>principal_amount</code> and <code>loan_type</code> columns.</p>"
   ]
  },
  {
   "cell_type": "markdown",
   "metadata": {
    "dc": {
     "key": "26"
    },
    "deletable": false,
    "editable": false,
    "run_control": {
     "frozen": true
    },
    "tags": [
     "context"
    ]
   },
   "source": [
    "## Task 4\n",
    "<p>The business strategy team is considering offering a more competitive rate to the US market. </p>\n",
    "<p>The analytic team want to compare the average interest rates offered by the company for the same loan type in different countries to determine if there are significant differences.</p>\n",
    "<p><img src=\"https://assets.datacamp.com/production/project_1748/img/lending_schema.png\" alt=\"database schema\"></p>\n",
    "<p>Write a query that returns the data for the analytics team. Your output should include <code>loan_type</code>, <code>country</code> and <code>avg_rate</code> columns.</p>"
   ]
  }
 ],
 "metadata": {
  "kernelspec": {
   "display_name": "Python 3 (ipykernel)",
   "language": "python",
   "name": "python3"
  },
  "language_info": {
   "codemirror_mode": {
    "name": "ipython",
    "version": 3
   },
   "file_extension": ".py",
   "mimetype": "text/x-python",
   "name": "python",
   "nbconvert_exporter": "python",
   "pygments_lexer": "ipython3",
   "version": "3.9.7"
  }
 },
 "nbformat": 4,
 "nbformat_minor": 2
}
